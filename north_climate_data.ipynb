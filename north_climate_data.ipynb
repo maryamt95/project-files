{
  "nbformat": 4,
  "nbformat_minor": 0,
  "metadata": {
    "colab": {
      "name": "north climate data.ipynb",
      "provenance": [],
      "collapsed_sections": [],
      "machine_shape": "hm",
      "mount_file_id": "1hQX1vflV2svDQ_z6Ywv1FEAFCm8j0-Rc",
      "authorship_tag": "ABX9TyNWB4/LcNeOawaU80HTT/74",
      "include_colab_link": true
    },
    "kernelspec": {
      "name": "python3",
      "display_name": "Python 3"
    },
    "language_info": {
      "name": "python"
    }
  },
  "cells": [
    {
      "cell_type": "markdown",
      "metadata": {
        "id": "view-in-github",
        "colab_type": "text"
      },
      "source": [
        "<a href=\"https://colab.research.google.com/github/maryamt95/project-files/blob/main/north_climate_data.ipynb\" target=\"_parent\"><img src=\"https://colab.research.google.com/assets/colab-badge.svg\" alt=\"Open In Colab\"/></a>"
      ]
    },
    {
      "cell_type": "code",
      "execution_count": null,
      "metadata": {
        "colab": {
          "base_uri": "https://localhost:8080/"
        },
        "id": "Hgz1HYEXpiTB",
        "outputId": "ac9b60c6-d7fa-49fe-8834-2990e960b1a7"
      },
      "outputs": [
        {
          "output_type": "stream",
          "name": "stdout",
          "text": [
            "Drive already mounted at /content/drive; to attempt to forcibly remount, call drive.mount(\"/content/drive\", force_remount=True).\n"
          ]
        }
      ],
      "source": [
        ""
      ]
    },
    {
      "cell_type": "markdown",
      "source": [
        "# mounting drive for data access"
      ],
      "metadata": {
        "id": "NDaz886fbvic"
      }
    },
    {
      "cell_type": "code",
      "source": [
        "from google.colab import drive  \n",
        "drive._mount('/content/drive') "
      ],
      "metadata": {
        "id": "CvvWJJY5bxD5"
      },
      "execution_count": null,
      "outputs": []
    },
    {
      "cell_type": "markdown",
      "source": [
        "# installing libraries\n"
      ],
      "metadata": {
        "id": "c4zvjyxNBn1N"
      }
    },
    {
      "cell_type": "code",
      "source": [
        "pip install cdsapi"
      ],
      "metadata": {
        "colab": {
          "base_uri": "https://localhost:8080/"
        },
        "id": "rpkYhN7DrWSe",
        "outputId": "379cede0-1a3a-49f3-880d-0bb393d2eb8a"
      },
      "execution_count": null,
      "outputs": [
        {
          "output_type": "stream",
          "name": "stdout",
          "text": [
            "Requirement already satisfied: cdsapi in /usr/local/lib/python3.7/dist-packages (0.5.1)\n",
            "Requirement already satisfied: requests>=2.5.0 in /usr/local/lib/python3.7/dist-packages (from cdsapi) (2.23.0)\n",
            "Requirement already satisfied: tqdm in /usr/local/lib/python3.7/dist-packages (from cdsapi) (4.62.3)\n",
            "Requirement already satisfied: urllib3!=1.25.0,!=1.25.1,<1.26,>=1.21.1 in /usr/local/lib/python3.7/dist-packages (from requests>=2.5.0->cdsapi) (1.24.3)\n",
            "Requirement already satisfied: certifi>=2017.4.17 in /usr/local/lib/python3.7/dist-packages (from requests>=2.5.0->cdsapi) (2021.10.8)\n",
            "Requirement already satisfied: idna<3,>=2.5 in /usr/local/lib/python3.7/dist-packages (from requests>=2.5.0->cdsapi) (2.10)\n",
            "Requirement already satisfied: chardet<4,>=3.0.2 in /usr/local/lib/python3.7/dist-packages (from requests>=2.5.0->cdsapi) (3.0.4)\n"
          ]
        }
      ]
    },
    {
      "cell_type": "code",
      "source": [
        "import cdsapi\n",
        "import netCDF4 as nc\n",
        "from netCDF4 import num2date\n",
        "from netCDF4 import Dataset\n",
        "import numpy as np\n",
        "import os\n",
        "import pandas as pd"
      ],
      "metadata": {
        "id": "XjXM3eujq69A"
      },
      "execution_count": 1,
      "outputs": []
    },
    {
      "cell_type": "code",
      "source": [
        "import xarray as xr\n",
        "import os"
      ],
      "metadata": {
        "id": "L4XwaMF0C4zL"
      },
      "execution_count": null,
      "outputs": []
    },
    {
      "cell_type": "markdown",
      "source": [
        "\n",
        "\n",
        "# Read Data from Drive "
      ],
      "metadata": {
        "id": "Z9cM4kavcJcS"
      }
    },
    {
      "cell_type": "code",
      "source": [
        "north_data=pd.read_csv('/content/drive/MyDrive/data/ERA5_monthly_north.csv')"
      ],
      "metadata": {
        "id": "tLiTqBUnJKcf"
      },
      "execution_count": 2,
      "outputs": []
    },
    {
      "cell_type": "code",
      "source": [
        "north_data.dtypes"
      ],
      "metadata": {
        "colab": {
          "base_uri": "https://localhost:8080/"
        },
        "id": "HZ9SyNxYTkqh",
        "outputId": "e183e7bc-162c-427e-9b1f-6ba1943bca58"
      },
      "execution_count": 7,
      "outputs": [
        {
          "output_type": "execute_result",
          "data": {
            "text/plain": [
              "expver         int64\n",
              "latitude     float64\n",
              "longitude    float64\n",
              "time          object\n",
              "t2m          float64\n",
              "siconc       float64\n",
              "asn          float64\n",
              "smlt         float64\n",
              "sp           float64\n",
              "tco3         float64\n",
              "dtype: object"
            ]
          },
          "metadata": {},
          "execution_count": 7
        }
      ]
    },
    {
      "cell_type": "code",
      "source": [
        "len(north_data)"
      ],
      "metadata": {
        "colab": {
          "base_uri": "https://localhost:8080/"
        },
        "id": "cNoPSHe1p13h",
        "outputId": "a5473948-1ffd-43a5-d275-e3db5b6f18db"
      },
      "execution_count": null,
      "outputs": [
        {
          "output_type": "execute_result",
          "data": {
            "text/plain": [
              "141177600"
            ]
          },
          "metadata": {},
          "execution_count": 4
        }
      ]
    },
    {
      "cell_type": "code",
      "source": [
        "north_data.count()"
      ],
      "metadata": {
        "colab": {
          "base_uri": "https://localhost:8080/"
        },
        "id": "cXiw8FEfsPIf",
        "outputId": "a1329e37-9d7a-4f76-c230-a0fda261ea9e"
      },
      "execution_count": null,
      "outputs": [
        {
          "output_type": "execute_result",
          "data": {
            "text/plain": [
              "expver       141177600\n",
              "latitude     141177600\n",
              "longitude    141177600\n",
              "time         141177600\n",
              "t2m           70588800\n",
              "siconc        52533444\n",
              "asn           70588800\n",
              "smlt          70588800\n",
              "sp            70588800\n",
              "tco3          70588800\n",
              "dtype: int64"
            ]
          },
          "metadata": {},
          "execution_count": 4
        }
      ]
    },
    {
      "cell_type": "markdown",
      "source": [
        "# Rename"
      ],
      "metadata": {
        "id": "MZnlnwP-ccmc"
      }
    },
    {
      "cell_type": "code",
      "source": [
        "north_data__renamed=north_data.rename(columns={'t2m':'temperature_2m','siconic':'sea_ice_area_fraction','asn':'Snow_albedo','smlt':'snow_melt','sp':'surface_pressure','tco3':\n",
        "'Total_column_ozone'})"
      ],
      "metadata": {
        "id": "nTsKt2bf7rFz"
      },
      "execution_count": null,
      "outputs": []
    },
    {
      "cell_type": "code",
      "source": [
        "north_d=north_data.drop(['expver','latitude','longitude'],axis=1)"
      ],
      "metadata": {
        "id": "kupIRjo23KrI"
      },
      "execution_count": null,
      "outputs": []
    },
    {
      "cell_type": "code",
      "source": [
        "north_avg=north_d.groupby('time').mean() #keeps crushing "
      ],
      "metadata": {
        "id": "cVU09mRO3Ywe"
      },
      "execution_count": null,
      "outputs": []
    },
    {
      "cell_type": "code",
      "source": [
        "north_data.head(2)"
      ],
      "metadata": {
        "colab": {
          "base_uri": "https://localhost:8080/",
          "height": 112
        },
        "id": "f__oYV-Z9lJw",
        "outputId": "7f5ef375-b371-4ff4-dc47-2d2bc55d5e4a"
      },
      "execution_count": null,
      "outputs": [
        {
          "output_type": "execute_result",
          "data": {
            "text/html": [
              "\n",
              "  <div id=\"df-583370e5-1bfe-4377-855b-e0404b5efe3b\">\n",
              "    <div class=\"colab-df-container\">\n",
              "      <div>\n",
              "<style scoped>\n",
              "    .dataframe tbody tr th:only-of-type {\n",
              "        vertical-align: middle;\n",
              "    }\n",
              "\n",
              "    .dataframe tbody tr th {\n",
              "        vertical-align: top;\n",
              "    }\n",
              "\n",
              "    .dataframe thead th {\n",
              "        text-align: right;\n",
              "    }\n",
              "</style>\n",
              "<table border=\"1\" class=\"dataframe\">\n",
              "  <thead>\n",
              "    <tr style=\"text-align: right;\">\n",
              "      <th></th>\n",
              "      <th>expver</th>\n",
              "      <th>latitude</th>\n",
              "      <th>longitude</th>\n",
              "      <th>time</th>\n",
              "      <th>t2m</th>\n",
              "      <th>siconc</th>\n",
              "      <th>asn</th>\n",
              "      <th>smlt</th>\n",
              "      <th>sp</th>\n",
              "      <th>tco3</th>\n",
              "    </tr>\n",
              "  </thead>\n",
              "  <tbody>\n",
              "    <tr>\n",
              "      <th>0</th>\n",
              "      <td>1</td>\n",
              "      <td>90.0</td>\n",
              "      <td>-180.0</td>\n",
              "      <td>1979-01-01</td>\n",
              "      <td>244.70773</td>\n",
              "      <td>0.976897</td>\n",
              "      <td>0.879997</td>\n",
              "      <td>0.0</td>\n",
              "      <td>102661.984</td>\n",
              "      <td>0.007461</td>\n",
              "    </tr>\n",
              "    <tr>\n",
              "      <th>1</th>\n",
              "      <td>1</td>\n",
              "      <td>90.0</td>\n",
              "      <td>-180.0</td>\n",
              "      <td>1979-02-01</td>\n",
              "      <td>241.44653</td>\n",
              "      <td>0.987060</td>\n",
              "      <td>0.880002</td>\n",
              "      <td>0.0</td>\n",
              "      <td>101824.310</td>\n",
              "      <td>0.009453</td>\n",
              "    </tr>\n",
              "  </tbody>\n",
              "</table>\n",
              "</div>\n",
              "      <button class=\"colab-df-convert\" onclick=\"convertToInteractive('df-583370e5-1bfe-4377-855b-e0404b5efe3b')\"\n",
              "              title=\"Convert this dataframe to an interactive table.\"\n",
              "              style=\"display:none;\">\n",
              "        \n",
              "  <svg xmlns=\"http://www.w3.org/2000/svg\" height=\"24px\"viewBox=\"0 0 24 24\"\n",
              "       width=\"24px\">\n",
              "    <path d=\"M0 0h24v24H0V0z\" fill=\"none\"/>\n",
              "    <path d=\"M18.56 5.44l.94 2.06.94-2.06 2.06-.94-2.06-.94-.94-2.06-.94 2.06-2.06.94zm-11 1L8.5 8.5l.94-2.06 2.06-.94-2.06-.94L8.5 2.5l-.94 2.06-2.06.94zm10 10l.94 2.06.94-2.06 2.06-.94-2.06-.94-.94-2.06-.94 2.06-2.06.94z\"/><path d=\"M17.41 7.96l-1.37-1.37c-.4-.4-.92-.59-1.43-.59-.52 0-1.04.2-1.43.59L10.3 9.45l-7.72 7.72c-.78.78-.78 2.05 0 2.83L4 21.41c.39.39.9.59 1.41.59.51 0 1.02-.2 1.41-.59l7.78-7.78 2.81-2.81c.8-.78.8-2.07 0-2.86zM5.41 20L4 18.59l7.72-7.72 1.47 1.35L5.41 20z\"/>\n",
              "  </svg>\n",
              "      </button>\n",
              "      \n",
              "  <style>\n",
              "    .colab-df-container {\n",
              "      display:flex;\n",
              "      flex-wrap:wrap;\n",
              "      gap: 12px;\n",
              "    }\n",
              "\n",
              "    .colab-df-convert {\n",
              "      background-color: #E8F0FE;\n",
              "      border: none;\n",
              "      border-radius: 50%;\n",
              "      cursor: pointer;\n",
              "      display: none;\n",
              "      fill: #1967D2;\n",
              "      height: 32px;\n",
              "      padding: 0 0 0 0;\n",
              "      width: 32px;\n",
              "    }\n",
              "\n",
              "    .colab-df-convert:hover {\n",
              "      background-color: #E2EBFA;\n",
              "      box-shadow: 0px 1px 2px rgba(60, 64, 67, 0.3), 0px 1px 3px 1px rgba(60, 64, 67, 0.15);\n",
              "      fill: #174EA6;\n",
              "    }\n",
              "\n",
              "    [theme=dark] .colab-df-convert {\n",
              "      background-color: #3B4455;\n",
              "      fill: #D2E3FC;\n",
              "    }\n",
              "\n",
              "    [theme=dark] .colab-df-convert:hover {\n",
              "      background-color: #434B5C;\n",
              "      box-shadow: 0px 1px 3px 1px rgba(0, 0, 0, 0.15);\n",
              "      filter: drop-shadow(0px 1px 2px rgba(0, 0, 0, 0.3));\n",
              "      fill: #FFFFFF;\n",
              "    }\n",
              "  </style>\n",
              "\n",
              "      <script>\n",
              "        const buttonEl =\n",
              "          document.querySelector('#df-583370e5-1bfe-4377-855b-e0404b5efe3b button.colab-df-convert');\n",
              "        buttonEl.style.display =\n",
              "          google.colab.kernel.accessAllowed ? 'block' : 'none';\n",
              "\n",
              "        async function convertToInteractive(key) {\n",
              "          const element = document.querySelector('#df-583370e5-1bfe-4377-855b-e0404b5efe3b');\n",
              "          const dataTable =\n",
              "            await google.colab.kernel.invokeFunction('convertToInteractive',\n",
              "                                                     [key], {});\n",
              "          if (!dataTable) return;\n",
              "\n",
              "          const docLinkHtml = 'Like what you see? Visit the ' +\n",
              "            '<a target=\"_blank\" href=https://colab.research.google.com/notebooks/data_table.ipynb>data table notebook</a>'\n",
              "            + ' to learn more about interactive tables.';\n",
              "          element.innerHTML = '';\n",
              "          dataTable['output_type'] = 'display_data';\n",
              "          await google.colab.output.renderOutput(dataTable, element);\n",
              "          const docLink = document.createElement('div');\n",
              "          docLink.innerHTML = docLinkHtml;\n",
              "          element.appendChild(docLink);\n",
              "        }\n",
              "      </script>\n",
              "    </div>\n",
              "  </div>\n",
              "  "
            ],
            "text/plain": [
              "   expver  latitude  longitude  ... smlt          sp      tco3\n",
              "0       1      90.0     -180.0  ...  0.0  102661.984  0.007461\n",
              "1       1      90.0     -180.0  ...  0.0  101824.310  0.009453\n",
              "\n",
              "[2 rows x 10 columns]"
            ]
          },
          "metadata": {},
          "execution_count": 9
        }
      ]
    },
    {
      "cell_type": "code",
      "source": [
        "#separating columns "
      ],
      "metadata": {
        "id": "yOsbxZ7y3ZDO"
      },
      "execution_count": null,
      "outputs": []
    },
    {
      "cell_type": "code",
      "source": [
        "north_data__renamed=north_d.rename(columns={'t2m':'temperature_2m','siconic':'sea_ice_area_fraction','asn':'Snow_albedo','smlt':'snow_melt','sp':'surface_pressure','tco3':\n",
        "'Total_column_ozone'})"
      ],
      "metadata": {
        "id": "qROVc-T-3_i9"
      },
      "execution_count": null,
      "outputs": []
    },
    {
      "cell_type": "markdown",
      "source": [
        "#Calculating averages "
      ],
      "metadata": {
        "id": "PnBPJtFJqn5h"
      }
    },
    {
      "cell_type": "code",
      "source": [
        "north_temp=north_data[['time','t2m']]\n",
        "north_temp_avg=north_temp.groupby('time').mean()"
      ],
      "metadata": {
        "id": "lz4yQ9uJ3zD0"
      },
      "execution_count": 3,
      "outputs": []
    },
    {
      "cell_type": "code",
      "source": [
        "north_temp_avg.to_csv('temp.csv') "
      ],
      "metadata": {
        "id": "LXnllc748xdm"
      },
      "execution_count": 20,
      "outputs": []
    },
    {
      "cell_type": "code",
      "source": [
        "# re- indexing to eliminate the index error from sea ice \n",
        "#columns=['expver','latitude','longitude','time','t2m','siconc','asn','smlt','sp','tco3']\n",
        "#north_data=north_data.reindex(columns=columns)"
      ],
      "metadata": {
        "id": "AAQXVXA795-k"
      },
      "execution_count": 8,
      "outputs": []
    },
    {
      "cell_type": "code",
      "source": [
        "#north_seaice=north_data[['time','siconic']]\n",
        "#north_seaice_avg=north_seaice.groupby('time').mean()"
      ],
      "metadata": {
        "id": "03tI1-3oS-ep"
      },
      "execution_count": null,
      "outputs": []
    },
    {
      "cell_type": "code",
      "source": [
        ""
      ],
      "metadata": {
        "id": "_j8v_lIrS-Kf"
      },
      "execution_count": null,
      "outputs": []
    },
    {
      "cell_type": "code",
      "source": [
        "north_snow_albedo=north_data[['time','asn']]\n",
        "north_snow_albedo_avg=north_snow_albedo.groupby('time').mean()"
      ],
      "metadata": {
        "id": "MI47e3Ku4HUv"
      },
      "execution_count": 4,
      "outputs": []
    },
    {
      "cell_type": "code",
      "source": [
        "north_snow_albedo_avg.to_csv('snoe_albedo.csv')"
      ],
      "metadata": {
        "id": "rSisOI2j34OH"
      },
      "execution_count": null,
      "outputs": []
    },
    {
      "cell_type": "code",
      "source": [
        "north_snow_melt=north_data[['time','smlt']]\n",
        "north_snow_melt_avg=north_snow_melt.groupby('time').mean()"
      ],
      "metadata": {
        "id": "SOPJJrPX-qgL"
      },
      "execution_count": 5,
      "outputs": []
    },
    {
      "cell_type": "code",
      "source": [
        "north_snow_melt_avg.to_csv('snow_melt.csv')"
      ],
      "metadata": {
        "id": "P8jmUyzi-qD1"
      },
      "execution_count": null,
      "outputs": []
    },
    {
      "cell_type": "code",
      "source": [
        "north_spressure=north_data[['time','sp']]\n",
        "north_spressure_avg=north_spressure.groupby('time').mean()"
      ],
      "metadata": {
        "id": "JIrWyqi3_ANN"
      },
      "execution_count": 6,
      "outputs": []
    },
    {
      "cell_type": "code",
      "source": [
        "north_spressure_avg.to_csv('spressure.csv')"
      ],
      "metadata": {
        "id": "mk2voUc7_A7_"
      },
      "execution_count": null,
      "outputs": []
    },
    {
      "cell_type": "code",
      "source": [
        "north_ozon=north_data[['time','tco3']]\n",
        "north_ozon_avg=north_ozon.groupby('time').mean()"
      ],
      "metadata": {
        "id": "jm5n2HlH_yZK"
      },
      "execution_count": null,
      "outputs": []
    },
    {
      "cell_type": "code",
      "source": [
        "north_ozon_avg.to_csv('ozon.csv')"
      ],
      "metadata": {
        "id": "JUe3wHH0_x-x"
      },
      "execution_count": null,
      "outputs": []
    },
    {
      "cell_type": "markdown",
      "source": [
        "# Merging"
      ],
      "metadata": {
        "id": "JtgR-OfZq0Gk"
      }
    },
    {
      "cell_type": "code",
      "source": [
        "north_merged=pd.merge(north_temp_avg,north_snow_albedo_avg,on=\"time\")"
      ],
      "metadata": {
        "id": "QrakITUCEWQ3"
      },
      "execution_count": 7,
      "outputs": []
    },
    {
      "cell_type": "code",
      "source": [
        "north_merged_1=pd.merge(north_merged,north_snow_melt_avg,on=\"time\")"
      ],
      "metadata": {
        "id": "Nz-wTNy8EWBr"
      },
      "execution_count": 8,
      "outputs": []
    },
    {
      "cell_type": "code",
      "source": [
        "north_merged_2=pd.merge(north_merged_1,north_spressure_avg,on=\"time\")"
      ],
      "metadata": {
        "id": "tlTXMIuGKO-M"
      },
      "execution_count": 9,
      "outputs": []
    },
    {
      "cell_type": "code",
      "source": [
        "north_data_r=north_merged_2.rename(columns={'t2m':'temperature_2m','asn':'Snow_albedo','smlt':'snow_melt','sp':'surface_pressure'})"
      ],
      "metadata": {
        "id": "_hO1JiM0Kcoc"
      },
      "execution_count": 10,
      "outputs": []
    },
    {
      "cell_type": "code",
      "source": [
        "north_data_r.head()"
      ],
      "metadata": {
        "colab": {
          "base_uri": "https://localhost:8080/",
          "height": 238
        },
        "outputId": "9ef2d867-284b-4de1-dd18-950b514ae0bf",
        "id": "mXknrf0FLHXD"
      },
      "execution_count": 11,
      "outputs": [
        {
          "output_type": "execute_result",
          "data": {
            "text/html": [
              "\n",
              "  <div id=\"df-bec7f1e5-e118-442d-81aa-37dd91ab09a8\">\n",
              "    <div class=\"colab-df-container\">\n",
              "      <div>\n",
              "<style scoped>\n",
              "    .dataframe tbody tr th:only-of-type {\n",
              "        vertical-align: middle;\n",
              "    }\n",
              "\n",
              "    .dataframe tbody tr th {\n",
              "        vertical-align: top;\n",
              "    }\n",
              "\n",
              "    .dataframe thead th {\n",
              "        text-align: right;\n",
              "    }\n",
              "</style>\n",
              "<table border=\"1\" class=\"dataframe\">\n",
              "  <thead>\n",
              "    <tr style=\"text-align: right;\">\n",
              "      <th></th>\n",
              "      <th>temperature_2m</th>\n",
              "      <th>Snow_albedo</th>\n",
              "      <th>snow_melt</th>\n",
              "      <th>surface_pressure</th>\n",
              "    </tr>\n",
              "    <tr>\n",
              "      <th>time</th>\n",
              "      <th></th>\n",
              "      <th></th>\n",
              "      <th></th>\n",
              "      <th></th>\n",
              "    </tr>\n",
              "  </thead>\n",
              "  <tbody>\n",
              "    <tr>\n",
              "      <th>1979-01-01</th>\n",
              "      <td>248.048989</td>\n",
              "      <td>0.842807</td>\n",
              "      <td>2.149000e-07</td>\n",
              "      <td>99971.627492</td>\n",
              "    </tr>\n",
              "    <tr>\n",
              "      <th>1979-02-01</th>\n",
              "      <td>243.439591</td>\n",
              "      <td>0.836100</td>\n",
              "      <td>7.621431e-07</td>\n",
              "      <td>99641.237045</td>\n",
              "    </tr>\n",
              "    <tr>\n",
              "      <th>1979-03-01</th>\n",
              "      <td>249.055998</td>\n",
              "      <td>0.834508</td>\n",
              "      <td>8.765569e-07</td>\n",
              "      <td>100240.042241</td>\n",
              "    </tr>\n",
              "    <tr>\n",
              "      <th>1979-04-01</th>\n",
              "      <td>254.599298</td>\n",
              "      <td>0.838258</td>\n",
              "      <td>3.177189e-05</td>\n",
              "      <td>100369.270964</td>\n",
              "    </tr>\n",
              "    <tr>\n",
              "      <th>1979-05-01</th>\n",
              "      <td>265.495457</td>\n",
              "      <td>0.842589</td>\n",
              "      <td>3.034634e-04</td>\n",
              "      <td>99839.279702</td>\n",
              "    </tr>\n",
              "  </tbody>\n",
              "</table>\n",
              "</div>\n",
              "      <button class=\"colab-df-convert\" onclick=\"convertToInteractive('df-bec7f1e5-e118-442d-81aa-37dd91ab09a8')\"\n",
              "              title=\"Convert this dataframe to an interactive table.\"\n",
              "              style=\"display:none;\">\n",
              "        \n",
              "  <svg xmlns=\"http://www.w3.org/2000/svg\" height=\"24px\"viewBox=\"0 0 24 24\"\n",
              "       width=\"24px\">\n",
              "    <path d=\"M0 0h24v24H0V0z\" fill=\"none\"/>\n",
              "    <path d=\"M18.56 5.44l.94 2.06.94-2.06 2.06-.94-2.06-.94-.94-2.06-.94 2.06-2.06.94zm-11 1L8.5 8.5l.94-2.06 2.06-.94-2.06-.94L8.5 2.5l-.94 2.06-2.06.94zm10 10l.94 2.06.94-2.06 2.06-.94-2.06-.94-.94-2.06-.94 2.06-2.06.94z\"/><path d=\"M17.41 7.96l-1.37-1.37c-.4-.4-.92-.59-1.43-.59-.52 0-1.04.2-1.43.59L10.3 9.45l-7.72 7.72c-.78.78-.78 2.05 0 2.83L4 21.41c.39.39.9.59 1.41.59.51 0 1.02-.2 1.41-.59l7.78-7.78 2.81-2.81c.8-.78.8-2.07 0-2.86zM5.41 20L4 18.59l7.72-7.72 1.47 1.35L5.41 20z\"/>\n",
              "  </svg>\n",
              "      </button>\n",
              "      \n",
              "  <style>\n",
              "    .colab-df-container {\n",
              "      display:flex;\n",
              "      flex-wrap:wrap;\n",
              "      gap: 12px;\n",
              "    }\n",
              "\n",
              "    .colab-df-convert {\n",
              "      background-color: #E8F0FE;\n",
              "      border: none;\n",
              "      border-radius: 50%;\n",
              "      cursor: pointer;\n",
              "      display: none;\n",
              "      fill: #1967D2;\n",
              "      height: 32px;\n",
              "      padding: 0 0 0 0;\n",
              "      width: 32px;\n",
              "    }\n",
              "\n",
              "    .colab-df-convert:hover {\n",
              "      background-color: #E2EBFA;\n",
              "      box-shadow: 0px 1px 2px rgba(60, 64, 67, 0.3), 0px 1px 3px 1px rgba(60, 64, 67, 0.15);\n",
              "      fill: #174EA6;\n",
              "    }\n",
              "\n",
              "    [theme=dark] .colab-df-convert {\n",
              "      background-color: #3B4455;\n",
              "      fill: #D2E3FC;\n",
              "    }\n",
              "\n",
              "    [theme=dark] .colab-df-convert:hover {\n",
              "      background-color: #434B5C;\n",
              "      box-shadow: 0px 1px 3px 1px rgba(0, 0, 0, 0.15);\n",
              "      filter: drop-shadow(0px 1px 2px rgba(0, 0, 0, 0.3));\n",
              "      fill: #FFFFFF;\n",
              "    }\n",
              "  </style>\n",
              "\n",
              "      <script>\n",
              "        const buttonEl =\n",
              "          document.querySelector('#df-bec7f1e5-e118-442d-81aa-37dd91ab09a8 button.colab-df-convert');\n",
              "        buttonEl.style.display =\n",
              "          google.colab.kernel.accessAllowed ? 'block' : 'none';\n",
              "\n",
              "        async function convertToInteractive(key) {\n",
              "          const element = document.querySelector('#df-bec7f1e5-e118-442d-81aa-37dd91ab09a8');\n",
              "          const dataTable =\n",
              "            await google.colab.kernel.invokeFunction('convertToInteractive',\n",
              "                                                     [key], {});\n",
              "          if (!dataTable) return;\n",
              "\n",
              "          const docLinkHtml = 'Like what you see? Visit the ' +\n",
              "            '<a target=\"_blank\" href=https://colab.research.google.com/notebooks/data_table.ipynb>data table notebook</a>'\n",
              "            + ' to learn more about interactive tables.';\n",
              "          element.innerHTML = '';\n",
              "          dataTable['output_type'] = 'display_data';\n",
              "          await google.colab.output.renderOutput(dataTable, element);\n",
              "          const docLink = document.createElement('div');\n",
              "          docLink.innerHTML = docLinkHtml;\n",
              "          element.appendChild(docLink);\n",
              "        }\n",
              "      </script>\n",
              "    </div>\n",
              "  </div>\n",
              "  "
            ],
            "text/plain": [
              "            temperature_2m  Snow_albedo     snow_melt  surface_pressure\n",
              "time                                                                   \n",
              "1979-01-01      248.048989     0.842807  2.149000e-07      99971.627492\n",
              "1979-02-01      243.439591     0.836100  7.621431e-07      99641.237045\n",
              "1979-03-01      249.055998     0.834508  8.765569e-07     100240.042241\n",
              "1979-04-01      254.599298     0.838258  3.177189e-05     100369.270964\n",
              "1979-05-01      265.495457     0.842589  3.034634e-04      99839.279702"
            ]
          },
          "metadata": {},
          "execution_count": 11
        }
      ]
    },
    {
      "cell_type": "code",
      "source": [
        "north_data_r.count()"
      ],
      "metadata": {
        "colab": {
          "base_uri": "https://localhost:8080/"
        },
        "id": "4t_7jjqqrHGj",
        "outputId": "a3152c87-96c7-4a5c-ac49-2bbf1c93786a"
      },
      "execution_count": 19,
      "outputs": [
        {
          "output_type": "execute_result",
          "data": {
            "text/plain": [
              "temperature_2m      516\n",
              "Snow_albedo         516\n",
              "snow_melt           516\n",
              "surface_pressure    516\n",
              "dtype: int64"
            ]
          },
          "metadata": {},
          "execution_count": 19
        }
      ]
    },
    {
      "cell_type": "code",
      "source": [
        "ozon=pd.read_csv('/content/ozon.csv')"
      ],
      "metadata": {
        "id": "9uQhUkZ-YTiK"
      },
      "execution_count": 12,
      "outputs": []
    },
    {
      "cell_type": "code",
      "source": [
        "north_data_avg=pd.merge(north_data_r,ozon,on=\"time\")\n",
        "north_data_avg=north_data_avg.rename(columns={'tco3':'Total_column_ozone'})"
      ],
      "metadata": {
        "id": "Me0kO4FhYTsp"
      },
      "execution_count": 15,
      "outputs": []
    },
    {
      "cell_type": "code",
      "source": [
        "north_data_avg.head()"
      ],
      "metadata": {
        "colab": {
          "base_uri": "https://localhost:8080/",
          "height": 206
        },
        "id": "1ClEa43IYT0d",
        "outputId": "f955141d-f15f-422d-ad15-2ba8b28131c9"
      },
      "execution_count": 16,
      "outputs": [
        {
          "output_type": "execute_result",
          "data": {
            "text/html": [
              "\n",
              "  <div id=\"df-2ef77689-1e67-4cdf-a73b-b35ca29b6997\">\n",
              "    <div class=\"colab-df-container\">\n",
              "      <div>\n",
              "<style scoped>\n",
              "    .dataframe tbody tr th:only-of-type {\n",
              "        vertical-align: middle;\n",
              "    }\n",
              "\n",
              "    .dataframe tbody tr th {\n",
              "        vertical-align: top;\n",
              "    }\n",
              "\n",
              "    .dataframe thead th {\n",
              "        text-align: right;\n",
              "    }\n",
              "</style>\n",
              "<table border=\"1\" class=\"dataframe\">\n",
              "  <thead>\n",
              "    <tr style=\"text-align: right;\">\n",
              "      <th></th>\n",
              "      <th>time</th>\n",
              "      <th>temperature_2m</th>\n",
              "      <th>Snow_albedo</th>\n",
              "      <th>snow_melt</th>\n",
              "      <th>surface_pressure</th>\n",
              "      <th>Total_column_ozone</th>\n",
              "    </tr>\n",
              "  </thead>\n",
              "  <tbody>\n",
              "    <tr>\n",
              "      <th>0</th>\n",
              "      <td>1979-01-01</td>\n",
              "      <td>248.048989</td>\n",
              "      <td>0.842807</td>\n",
              "      <td>2.149000e-07</td>\n",
              "      <td>99971.627492</td>\n",
              "      <td>0.007569</td>\n",
              "    </tr>\n",
              "    <tr>\n",
              "      <th>1</th>\n",
              "      <td>1979-02-01</td>\n",
              "      <td>243.439591</td>\n",
              "      <td>0.836100</td>\n",
              "      <td>7.621431e-07</td>\n",
              "      <td>99641.237045</td>\n",
              "      <td>0.009261</td>\n",
              "    </tr>\n",
              "    <tr>\n",
              "      <th>2</th>\n",
              "      <td>1979-03-01</td>\n",
              "      <td>249.055998</td>\n",
              "      <td>0.834508</td>\n",
              "      <td>8.765569e-07</td>\n",
              "      <td>100240.042241</td>\n",
              "      <td>0.010040</td>\n",
              "    </tr>\n",
              "    <tr>\n",
              "      <th>3</th>\n",
              "      <td>1979-04-01</td>\n",
              "      <td>254.599298</td>\n",
              "      <td>0.838258</td>\n",
              "      <td>3.177189e-05</td>\n",
              "      <td>100369.270964</td>\n",
              "      <td>0.009609</td>\n",
              "    </tr>\n",
              "    <tr>\n",
              "      <th>4</th>\n",
              "      <td>1979-05-01</td>\n",
              "      <td>265.495457</td>\n",
              "      <td>0.842589</td>\n",
              "      <td>3.034634e-04</td>\n",
              "      <td>99839.279702</td>\n",
              "      <td>0.008514</td>\n",
              "    </tr>\n",
              "  </tbody>\n",
              "</table>\n",
              "</div>\n",
              "      <button class=\"colab-df-convert\" onclick=\"convertToInteractive('df-2ef77689-1e67-4cdf-a73b-b35ca29b6997')\"\n",
              "              title=\"Convert this dataframe to an interactive table.\"\n",
              "              style=\"display:none;\">\n",
              "        \n",
              "  <svg xmlns=\"http://www.w3.org/2000/svg\" height=\"24px\"viewBox=\"0 0 24 24\"\n",
              "       width=\"24px\">\n",
              "    <path d=\"M0 0h24v24H0V0z\" fill=\"none\"/>\n",
              "    <path d=\"M18.56 5.44l.94 2.06.94-2.06 2.06-.94-2.06-.94-.94-2.06-.94 2.06-2.06.94zm-11 1L8.5 8.5l.94-2.06 2.06-.94-2.06-.94L8.5 2.5l-.94 2.06-2.06.94zm10 10l.94 2.06.94-2.06 2.06-.94-2.06-.94-.94-2.06-.94 2.06-2.06.94z\"/><path d=\"M17.41 7.96l-1.37-1.37c-.4-.4-.92-.59-1.43-.59-.52 0-1.04.2-1.43.59L10.3 9.45l-7.72 7.72c-.78.78-.78 2.05 0 2.83L4 21.41c.39.39.9.59 1.41.59.51 0 1.02-.2 1.41-.59l7.78-7.78 2.81-2.81c.8-.78.8-2.07 0-2.86zM5.41 20L4 18.59l7.72-7.72 1.47 1.35L5.41 20z\"/>\n",
              "  </svg>\n",
              "      </button>\n",
              "      \n",
              "  <style>\n",
              "    .colab-df-container {\n",
              "      display:flex;\n",
              "      flex-wrap:wrap;\n",
              "      gap: 12px;\n",
              "    }\n",
              "\n",
              "    .colab-df-convert {\n",
              "      background-color: #E8F0FE;\n",
              "      border: none;\n",
              "      border-radius: 50%;\n",
              "      cursor: pointer;\n",
              "      display: none;\n",
              "      fill: #1967D2;\n",
              "      height: 32px;\n",
              "      padding: 0 0 0 0;\n",
              "      width: 32px;\n",
              "    }\n",
              "\n",
              "    .colab-df-convert:hover {\n",
              "      background-color: #E2EBFA;\n",
              "      box-shadow: 0px 1px 2px rgba(60, 64, 67, 0.3), 0px 1px 3px 1px rgba(60, 64, 67, 0.15);\n",
              "      fill: #174EA6;\n",
              "    }\n",
              "\n",
              "    [theme=dark] .colab-df-convert {\n",
              "      background-color: #3B4455;\n",
              "      fill: #D2E3FC;\n",
              "    }\n",
              "\n",
              "    [theme=dark] .colab-df-convert:hover {\n",
              "      background-color: #434B5C;\n",
              "      box-shadow: 0px 1px 3px 1px rgba(0, 0, 0, 0.15);\n",
              "      filter: drop-shadow(0px 1px 2px rgba(0, 0, 0, 0.3));\n",
              "      fill: #FFFFFF;\n",
              "    }\n",
              "  </style>\n",
              "\n",
              "      <script>\n",
              "        const buttonEl =\n",
              "          document.querySelector('#df-2ef77689-1e67-4cdf-a73b-b35ca29b6997 button.colab-df-convert');\n",
              "        buttonEl.style.display =\n",
              "          google.colab.kernel.accessAllowed ? 'block' : 'none';\n",
              "\n",
              "        async function convertToInteractive(key) {\n",
              "          const element = document.querySelector('#df-2ef77689-1e67-4cdf-a73b-b35ca29b6997');\n",
              "          const dataTable =\n",
              "            await google.colab.kernel.invokeFunction('convertToInteractive',\n",
              "                                                     [key], {});\n",
              "          if (!dataTable) return;\n",
              "\n",
              "          const docLinkHtml = 'Like what you see? Visit the ' +\n",
              "            '<a target=\"_blank\" href=https://colab.research.google.com/notebooks/data_table.ipynb>data table notebook</a>'\n",
              "            + ' to learn more about interactive tables.';\n",
              "          element.innerHTML = '';\n",
              "          dataTable['output_type'] = 'display_data';\n",
              "          await google.colab.output.renderOutput(dataTable, element);\n",
              "          const docLink = document.createElement('div');\n",
              "          docLink.innerHTML = docLinkHtml;\n",
              "          element.appendChild(docLink);\n",
              "        }\n",
              "      </script>\n",
              "    </div>\n",
              "  </div>\n",
              "  "
            ],
            "text/plain": [
              "         time  temperature_2m  ...  surface_pressure  Total_column_ozone\n",
              "0  1979-01-01      248.048989  ...      99971.627492            0.007569\n",
              "1  1979-02-01      243.439591  ...      99641.237045            0.009261\n",
              "2  1979-03-01      249.055998  ...     100240.042241            0.010040\n",
              "3  1979-04-01      254.599298  ...     100369.270964            0.009609\n",
              "4  1979-05-01      265.495457  ...      99839.279702            0.008514\n",
              "\n",
              "[5 rows x 6 columns]"
            ]
          },
          "metadata": {},
          "execution_count": 16
        }
      ]
    },
    {
      "cell_type": "code",
      "source": [
        "north_data_avg.to_csv('north_avg.csv')\n",
        "!cp north_avg.csv \"drive/My Drive/data/\"\n"
      ],
      "metadata": {
        "id": "JoJHvr1OYT6l"
      },
      "execution_count": 21,
      "outputs": []
    },
    {
      "cell_type": "code",
      "source": [
        "north_data_avg.count()"
      ],
      "metadata": {
        "colab": {
          "base_uri": "https://localhost:8080/"
        },
        "id": "2nsw4inqaFGc",
        "outputId": "89bb851d-1c04-4f2d-b90a-f513c6eec27a"
      },
      "execution_count": 18,
      "outputs": [
        {
          "output_type": "execute_result",
          "data": {
            "text/plain": [
              "time                  516\n",
              "temperature_2m        516\n",
              "Snow_albedo           516\n",
              "snow_melt             516\n",
              "surface_pressure      516\n",
              "Total_column_ozone    516\n",
              "dtype: int64"
            ]
          },
          "metadata": {},
          "execution_count": 18
        }
      ]
    }
  ]
}