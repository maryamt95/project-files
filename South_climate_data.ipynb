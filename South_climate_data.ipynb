{
  "nbformat": 4,
  "nbformat_minor": 0,
  "metadata": {
    "colab": {
      "name": "South climate data.ipynb",
      "provenance": [],
      "collapsed_sections": [
        "MZnlnwP-ccmc"
      ],
      "machine_shape": "hm",
      "mount_file_id": "1JeHlzkJpiDZ0Y6HYX_AiqGnW8rqyVDsP",
      "authorship_tag": "ABX9TyMPoVUJmFUovTYSD5pICVar",
      "include_colab_link": true
    },
    "kernelspec": {
      "name": "python3",
      "display_name": "Python 3"
    },
    "language_info": {
      "name": "python"
    }
  },
  "cells": [
    {
      "cell_type": "markdown",
      "metadata": {
        "id": "view-in-github",
        "colab_type": "text"
      },
      "source": [
        "<a href=\"https://colab.research.google.com/github/maryamt95/project-files/blob/main/South_climate_data.ipynb\" target=\"_parent\"><img src=\"https://colab.research.google.com/assets/colab-badge.svg\" alt=\"Open In Colab\"/></a>"
      ]
    },
    {
      "cell_type": "markdown",
      "source": [
        "# mounting drive for data access"
      ],
      "metadata": {
        "id": "NDaz886fbvic"
      }
    },
    {
      "cell_type": "code",
      "source": [
        "from google.colab import drive  \n",
        "drive._mount('/content/drive') "
      ],
      "metadata": {
        "id": "CvvWJJY5bxD5",
        "colab": {
          "base_uri": "https://localhost:8080/"
        },
        "outputId": "72f38689-79b1-4899-acb6-84c814538048"
      },
      "execution_count": 1,
      "outputs": [
        {
          "output_type": "stream",
          "name": "stdout",
          "text": [
            "Mounted at /content/drive\n"
          ]
        }
      ]
    },
    {
      "cell_type": "markdown",
      "source": [
        "# installing libraries\n"
      ],
      "metadata": {
        "id": "c4zvjyxNBn1N"
      }
    },
    {
      "cell_type": "code",
      "source": [
        "pip install cdsapi"
      ],
      "metadata": {
        "colab": {
          "base_uri": "https://localhost:8080/"
        },
        "id": "rpkYhN7DrWSe",
        "outputId": "f78b9f34-65a6-46a9-9cb6-9753706c9765"
      },
      "execution_count": 2,
      "outputs": [
        {
          "output_type": "stream",
          "name": "stdout",
          "text": [
            "Collecting cdsapi\n",
            "  Downloading cdsapi-0.5.1.tar.gz (12 kB)\n",
            "Requirement already satisfied: requests>=2.5.0 in /usr/local/lib/python3.7/dist-packages (from cdsapi) (2.23.0)\n",
            "Requirement already satisfied: tqdm in /usr/local/lib/python3.7/dist-packages (from cdsapi) (4.62.3)\n",
            "Requirement already satisfied: certifi>=2017.4.17 in /usr/local/lib/python3.7/dist-packages (from requests>=2.5.0->cdsapi) (2021.10.8)\n",
            "Requirement already satisfied: idna<3,>=2.5 in /usr/local/lib/python3.7/dist-packages (from requests>=2.5.0->cdsapi) (2.10)\n",
            "Requirement already satisfied: urllib3!=1.25.0,!=1.25.1,<1.26,>=1.21.1 in /usr/local/lib/python3.7/dist-packages (from requests>=2.5.0->cdsapi) (1.24.3)\n",
            "Requirement already satisfied: chardet<4,>=3.0.2 in /usr/local/lib/python3.7/dist-packages (from requests>=2.5.0->cdsapi) (3.0.4)\n",
            "Building wheels for collected packages: cdsapi\n",
            "  Building wheel for cdsapi (setup.py) ... \u001b[?25l\u001b[?25hdone\n",
            "  Created wheel for cdsapi: filename=cdsapi-0.5.1-py2.py3-none-any.whl size=11699 sha256=6e458fe9a0608f6eee64055a9bc6dab7a9a4db0ee97bf92ab59034bda2c70ad1\n",
            "  Stored in directory: /root/.cache/pip/wheels/1d/2e/3c/3746e0cd076320584d6f47b688da7b13a5d5d1a92606779ca4\n",
            "Successfully built cdsapi\n",
            "Installing collected packages: cdsapi\n",
            "Successfully installed cdsapi-0.5.1\n"
          ]
        }
      ]
    },
    {
      "cell_type": "code",
      "source": [
        "import cdsapi\n",
        "import netCDF4 as nc\n",
        "from netCDF4 import num2date\n",
        "from netCDF4 import Dataset\n",
        "import numpy as np\n",
        "import os\n",
        "import pandas as pd"
      ],
      "metadata": {
        "id": "XjXM3eujq69A"
      },
      "execution_count": 1,
      "outputs": []
    },
    {
      "cell_type": "code",
      "source": [
        "import xarray as xr\n",
        "import os"
      ],
      "metadata": {
        "id": "L4XwaMF0C4zL"
      },
      "execution_count": 14,
      "outputs": []
    },
    {
      "cell_type": "code",
      "source": [
        "south_data = xr.open_dataset('/content/drive/MyDrive/data/ERA5_monthly_south.nc')"
      ],
      "metadata": {
        "id": "iGaThpZ8toy4"
      },
      "execution_count": 15,
      "outputs": []
    },
    {
      "cell_type": "code",
      "source": [
        "south_df = south_data.to_dataframe()"
      ],
      "metadata": {
        "id": "7qoW580puFV8"
      },
      "execution_count": 16,
      "outputs": []
    },
    {
      "cell_type": "code",
      "source": [
        "south_df.to_csv('south_data.csv') \n",
        "!cp south_data.csv \"drive/My Drive/data/\"\n"
      ],
      "metadata": {
        "id": "o43sUVGxumde"
      },
      "execution_count": 17,
      "outputs": []
    },
    {
      "cell_type": "markdown",
      "source": [
        "\n",
        "\n",
        "# Read Data from Drive "
      ],
      "metadata": {
        "id": "Z9cM4kavcJcS"
      }
    },
    {
      "cell_type": "code",
      "source": [
        "south_data=pd.read_csv('/content/south_data.csv')"
      ],
      "metadata": {
        "id": "tLiTqBUnJKcf"
      },
      "execution_count": 3,
      "outputs": []
    },
    {
      "cell_type": "code",
      "source": [
        "south_data.head()"
      ],
      "metadata": {
        "colab": {
          "base_uri": "https://localhost:8080/",
          "height": 206
        },
        "id": "gHmsEiPsyGiV",
        "outputId": "fc196a59-c173-4a5f-afd4-2a854b692aa4"
      },
      "execution_count": 4,
      "outputs": [
        {
          "output_type": "execute_result",
          "data": {
            "text/html": [
              "\n",
              "  <div id=\"df-2bde9dc4-e6f7-479d-893d-dc1c4923cd2e\">\n",
              "    <div class=\"colab-df-container\">\n",
              "      <div>\n",
              "<style scoped>\n",
              "    .dataframe tbody tr th:only-of-type {\n",
              "        vertical-align: middle;\n",
              "    }\n",
              "\n",
              "    .dataframe tbody tr th {\n",
              "        vertical-align: top;\n",
              "    }\n",
              "\n",
              "    .dataframe thead th {\n",
              "        text-align: right;\n",
              "    }\n",
              "</style>\n",
              "<table border=\"1\" class=\"dataframe\">\n",
              "  <thead>\n",
              "    <tr style=\"text-align: right;\">\n",
              "      <th></th>\n",
              "      <th>expver</th>\n",
              "      <th>latitude</th>\n",
              "      <th>longitude</th>\n",
              "      <th>time</th>\n",
              "      <th>t2m</th>\n",
              "      <th>siconc</th>\n",
              "      <th>asn</th>\n",
              "      <th>smlt</th>\n",
              "      <th>sp</th>\n",
              "      <th>tco3</th>\n",
              "    </tr>\n",
              "  </thead>\n",
              "  <tbody>\n",
              "    <tr>\n",
              "      <th>0</th>\n",
              "      <td>1</td>\n",
              "      <td>-66.5</td>\n",
              "      <td>-180.0</td>\n",
              "      <td>1979-01-01</td>\n",
              "      <td>273.11370</td>\n",
              "      <td>0.000000</td>\n",
              "      <td>0.879997</td>\n",
              "      <td>4.656613e-10</td>\n",
              "      <td>98775.18</td>\n",
              "      <td>0.006691</td>\n",
              "    </tr>\n",
              "    <tr>\n",
              "      <th>1</th>\n",
              "      <td>1</td>\n",
              "      <td>-66.5</td>\n",
              "      <td>-180.0</td>\n",
              "      <td>1979-02-01</td>\n",
              "      <td>273.69443</td>\n",
              "      <td>0.000000</td>\n",
              "      <td>0.880002</td>\n",
              "      <td>4.656613e-10</td>\n",
              "      <td>98003.59</td>\n",
              "      <td>0.006664</td>\n",
              "    </tr>\n",
              "    <tr>\n",
              "      <th>2</th>\n",
              "      <td>1</td>\n",
              "      <td>-66.5</td>\n",
              "      <td>-180.0</td>\n",
              "      <td>1979-03-01</td>\n",
              "      <td>272.86243</td>\n",
              "      <td>0.000000</td>\n",
              "      <td>0.879997</td>\n",
              "      <td>4.656613e-10</td>\n",
              "      <td>97982.06</td>\n",
              "      <td>0.006634</td>\n",
              "    </tr>\n",
              "    <tr>\n",
              "      <th>3</th>\n",
              "      <td>1</td>\n",
              "      <td>-66.5</td>\n",
              "      <td>-180.0</td>\n",
              "      <td>1979-04-01</td>\n",
              "      <td>271.37503</td>\n",
              "      <td>0.000000</td>\n",
              "      <td>0.880002</td>\n",
              "      <td>4.656613e-10</td>\n",
              "      <td>98392.62</td>\n",
              "      <td>0.006466</td>\n",
              "    </tr>\n",
              "    <tr>\n",
              "      <th>4</th>\n",
              "      <td>1</td>\n",
              "      <td>-66.5</td>\n",
              "      <td>-180.0</td>\n",
              "      <td>1979-05-01</td>\n",
              "      <td>266.82153</td>\n",
              "      <td>0.140235</td>\n",
              "      <td>0.880008</td>\n",
              "      <td>4.656613e-10</td>\n",
              "      <td>97862.92</td>\n",
              "      <td>0.006894</td>\n",
              "    </tr>\n",
              "  </tbody>\n",
              "</table>\n",
              "</div>\n",
              "      <button class=\"colab-df-convert\" onclick=\"convertToInteractive('df-2bde9dc4-e6f7-479d-893d-dc1c4923cd2e')\"\n",
              "              title=\"Convert this dataframe to an interactive table.\"\n",
              "              style=\"display:none;\">\n",
              "        \n",
              "  <svg xmlns=\"http://www.w3.org/2000/svg\" height=\"24px\"viewBox=\"0 0 24 24\"\n",
              "       width=\"24px\">\n",
              "    <path d=\"M0 0h24v24H0V0z\" fill=\"none\"/>\n",
              "    <path d=\"M18.56 5.44l.94 2.06.94-2.06 2.06-.94-2.06-.94-.94-2.06-.94 2.06-2.06.94zm-11 1L8.5 8.5l.94-2.06 2.06-.94-2.06-.94L8.5 2.5l-.94 2.06-2.06.94zm10 10l.94 2.06.94-2.06 2.06-.94-2.06-.94-.94-2.06-.94 2.06-2.06.94z\"/><path d=\"M17.41 7.96l-1.37-1.37c-.4-.4-.92-.59-1.43-.59-.52 0-1.04.2-1.43.59L10.3 9.45l-7.72 7.72c-.78.78-.78 2.05 0 2.83L4 21.41c.39.39.9.59 1.41.59.51 0 1.02-.2 1.41-.59l7.78-7.78 2.81-2.81c.8-.78.8-2.07 0-2.86zM5.41 20L4 18.59l7.72-7.72 1.47 1.35L5.41 20z\"/>\n",
              "  </svg>\n",
              "      </button>\n",
              "      \n",
              "  <style>\n",
              "    .colab-df-container {\n",
              "      display:flex;\n",
              "      flex-wrap:wrap;\n",
              "      gap: 12px;\n",
              "    }\n",
              "\n",
              "    .colab-df-convert {\n",
              "      background-color: #E8F0FE;\n",
              "      border: none;\n",
              "      border-radius: 50%;\n",
              "      cursor: pointer;\n",
              "      display: none;\n",
              "      fill: #1967D2;\n",
              "      height: 32px;\n",
              "      padding: 0 0 0 0;\n",
              "      width: 32px;\n",
              "    }\n",
              "\n",
              "    .colab-df-convert:hover {\n",
              "      background-color: #E2EBFA;\n",
              "      box-shadow: 0px 1px 2px rgba(60, 64, 67, 0.3), 0px 1px 3px 1px rgba(60, 64, 67, 0.15);\n",
              "      fill: #174EA6;\n",
              "    }\n",
              "\n",
              "    [theme=dark] .colab-df-convert {\n",
              "      background-color: #3B4455;\n",
              "      fill: #D2E3FC;\n",
              "    }\n",
              "\n",
              "    [theme=dark] .colab-df-convert:hover {\n",
              "      background-color: #434B5C;\n",
              "      box-shadow: 0px 1px 3px 1px rgba(0, 0, 0, 0.15);\n",
              "      filter: drop-shadow(0px 1px 2px rgba(0, 0, 0, 0.3));\n",
              "      fill: #FFFFFF;\n",
              "    }\n",
              "  </style>\n",
              "\n",
              "      <script>\n",
              "        const buttonEl =\n",
              "          document.querySelector('#df-2bde9dc4-e6f7-479d-893d-dc1c4923cd2e button.colab-df-convert');\n",
              "        buttonEl.style.display =\n",
              "          google.colab.kernel.accessAllowed ? 'block' : 'none';\n",
              "\n",
              "        async function convertToInteractive(key) {\n",
              "          const element = document.querySelector('#df-2bde9dc4-e6f7-479d-893d-dc1c4923cd2e');\n",
              "          const dataTable =\n",
              "            await google.colab.kernel.invokeFunction('convertToInteractive',\n",
              "                                                     [key], {});\n",
              "          if (!dataTable) return;\n",
              "\n",
              "          const docLinkHtml = 'Like what you see? Visit the ' +\n",
              "            '<a target=\"_blank\" href=https://colab.research.google.com/notebooks/data_table.ipynb>data table notebook</a>'\n",
              "            + ' to learn more about interactive tables.';\n",
              "          element.innerHTML = '';\n",
              "          dataTable['output_type'] = 'display_data';\n",
              "          await google.colab.output.renderOutput(dataTable, element);\n",
              "          const docLink = document.createElement('div');\n",
              "          docLink.innerHTML = docLinkHtml;\n",
              "          element.appendChild(docLink);\n",
              "        }\n",
              "      </script>\n",
              "    </div>\n",
              "  </div>\n",
              "  "
            ],
            "text/plain": [
              "   expver  latitude  longitude  ...          smlt        sp      tco3\n",
              "0       1     -66.5     -180.0  ...  4.656613e-10  98775.18  0.006691\n",
              "1       1     -66.5     -180.0  ...  4.656613e-10  98003.59  0.006664\n",
              "2       1     -66.5     -180.0  ...  4.656613e-10  97982.06  0.006634\n",
              "3       1     -66.5     -180.0  ...  4.656613e-10  98392.62  0.006466\n",
              "4       1     -66.5     -180.0  ...  4.656613e-10  97862.92  0.006894\n",
              "\n",
              "[5 rows x 10 columns]"
            ]
          },
          "metadata": {},
          "execution_count": 4
        }
      ]
    },
    {
      "cell_type": "code",
      "source": [
        "south_data.dtypes"
      ],
      "metadata": {
        "colab": {
          "base_uri": "https://localhost:8080/"
        },
        "id": "HZ9SyNxYTkqh",
        "outputId": "41cc10c1-4c31-4fd6-bc7b-75e130fada0f"
      },
      "execution_count": 5,
      "outputs": [
        {
          "output_type": "execute_result",
          "data": {
            "text/plain": [
              "expver         int64\n",
              "latitude     float64\n",
              "longitude    float64\n",
              "time          object\n",
              "t2m          float64\n",
              "siconc       float64\n",
              "asn          float64\n",
              "smlt         float64\n",
              "sp           float64\n",
              "tco3         float64\n",
              "dtype: object"
            ]
          },
          "metadata": {},
          "execution_count": 5
        }
      ]
    },
    {
      "cell_type": "code",
      "source": [
        "len(south_data)"
      ],
      "metadata": {
        "colab": {
          "base_uri": "https://localhost:8080/"
        },
        "id": "cNoPSHe1p13h",
        "outputId": "a5af0cb5-64fe-4e7b-ce00-9634ee830a9c"
      },
      "execution_count": 6,
      "outputs": [
        {
          "output_type": "execute_result",
          "data": {
            "text/plain": [
              "141177600"
            ]
          },
          "metadata": {},
          "execution_count": 6
        }
      ]
    },
    {
      "cell_type": "code",
      "source": [
        "south_data.count()"
      ],
      "metadata": {
        "colab": {
          "base_uri": "https://localhost:8080/"
        },
        "id": "cXiw8FEfsPIf",
        "outputId": "03890e92-2ea9-4911-d58f-02a079dcd7df"
      },
      "execution_count": 7,
      "outputs": [
        {
          "output_type": "execute_result",
          "data": {
            "text/plain": [
              "expver       141177600\n",
              "latitude     141177600\n",
              "longitude    141177600\n",
              "time         141177600\n",
              "t2m           70588800\n",
              "siconc        15390216\n",
              "asn           70588800\n",
              "smlt          70588800\n",
              "sp            70588800\n",
              "tco3          70588800\n",
              "dtype: int64"
            ]
          },
          "metadata": {},
          "execution_count": 7
        }
      ]
    },
    {
      "cell_type": "markdown",
      "source": [
        "# Rename"
      ],
      "metadata": {
        "id": "MZnlnwP-ccmc"
      }
    },
    {
      "cell_type": "code",
      "source": [
        "north_data__renamed=north_data.rename(columns={'t2m':'temperature_2m','siconic':'sea_ice_area_fraction','asn':'Snow_albedo','smlt':'snow_melt','sp':'surface_pressure','tco3':\n",
        "'Total_column_ozone'})"
      ],
      "metadata": {
        "id": "nTsKt2bf7rFz"
      },
      "execution_count": null,
      "outputs": []
    },
    {
      "cell_type": "code",
      "source": [
        "north_d=north_data.drop(['expver','latitude','longitude'],axis=1)"
      ],
      "metadata": {
        "id": "kupIRjo23KrI"
      },
      "execution_count": null,
      "outputs": []
    },
    {
      "cell_type": "code",
      "source": [
        "north_avg=north_d.groupby('time').mean() #keeps crushing "
      ],
      "metadata": {
        "id": "cVU09mRO3Ywe"
      },
      "execution_count": null,
      "outputs": []
    },
    {
      "cell_type": "code",
      "source": [
        "north_data.head(2)"
      ],
      "metadata": {
        "colab": {
          "base_uri": "https://localhost:8080/",
          "height": 112
        },
        "id": "f__oYV-Z9lJw",
        "outputId": "7f5ef375-b371-4ff4-dc47-2d2bc55d5e4a"
      },
      "execution_count": null,
      "outputs": [
        {
          "output_type": "execute_result",
          "data": {
            "text/html": [
              "\n",
              "  <div id=\"df-583370e5-1bfe-4377-855b-e0404b5efe3b\">\n",
              "    <div class=\"colab-df-container\">\n",
              "      <div>\n",
              "<style scoped>\n",
              "    .dataframe tbody tr th:only-of-type {\n",
              "        vertical-align: middle;\n",
              "    }\n",
              "\n",
              "    .dataframe tbody tr th {\n",
              "        vertical-align: top;\n",
              "    }\n",
              "\n",
              "    .dataframe thead th {\n",
              "        text-align: right;\n",
              "    }\n",
              "</style>\n",
              "<table border=\"1\" class=\"dataframe\">\n",
              "  <thead>\n",
              "    <tr style=\"text-align: right;\">\n",
              "      <th></th>\n",
              "      <th>expver</th>\n",
              "      <th>latitude</th>\n",
              "      <th>longitude</th>\n",
              "      <th>time</th>\n",
              "      <th>t2m</th>\n",
              "      <th>siconc</th>\n",
              "      <th>asn</th>\n",
              "      <th>smlt</th>\n",
              "      <th>sp</th>\n",
              "      <th>tco3</th>\n",
              "    </tr>\n",
              "  </thead>\n",
              "  <tbody>\n",
              "    <tr>\n",
              "      <th>0</th>\n",
              "      <td>1</td>\n",
              "      <td>90.0</td>\n",
              "      <td>-180.0</td>\n",
              "      <td>1979-01-01</td>\n",
              "      <td>244.70773</td>\n",
              "      <td>0.976897</td>\n",
              "      <td>0.879997</td>\n",
              "      <td>0.0</td>\n",
              "      <td>102661.984</td>\n",
              "      <td>0.007461</td>\n",
              "    </tr>\n",
              "    <tr>\n",
              "      <th>1</th>\n",
              "      <td>1</td>\n",
              "      <td>90.0</td>\n",
              "      <td>-180.0</td>\n",
              "      <td>1979-02-01</td>\n",
              "      <td>241.44653</td>\n",
              "      <td>0.987060</td>\n",
              "      <td>0.880002</td>\n",
              "      <td>0.0</td>\n",
              "      <td>101824.310</td>\n",
              "      <td>0.009453</td>\n",
              "    </tr>\n",
              "  </tbody>\n",
              "</table>\n",
              "</div>\n",
              "      <button class=\"colab-df-convert\" onclick=\"convertToInteractive('df-583370e5-1bfe-4377-855b-e0404b5efe3b')\"\n",
              "              title=\"Convert this dataframe to an interactive table.\"\n",
              "              style=\"display:none;\">\n",
              "        \n",
              "  <svg xmlns=\"http://www.w3.org/2000/svg\" height=\"24px\"viewBox=\"0 0 24 24\"\n",
              "       width=\"24px\">\n",
              "    <path d=\"M0 0h24v24H0V0z\" fill=\"none\"/>\n",
              "    <path d=\"M18.56 5.44l.94 2.06.94-2.06 2.06-.94-2.06-.94-.94-2.06-.94 2.06-2.06.94zm-11 1L8.5 8.5l.94-2.06 2.06-.94-2.06-.94L8.5 2.5l-.94 2.06-2.06.94zm10 10l.94 2.06.94-2.06 2.06-.94-2.06-.94-.94-2.06-.94 2.06-2.06.94z\"/><path d=\"M17.41 7.96l-1.37-1.37c-.4-.4-.92-.59-1.43-.59-.52 0-1.04.2-1.43.59L10.3 9.45l-7.72 7.72c-.78.78-.78 2.05 0 2.83L4 21.41c.39.39.9.59 1.41.59.51 0 1.02-.2 1.41-.59l7.78-7.78 2.81-2.81c.8-.78.8-2.07 0-2.86zM5.41 20L4 18.59l7.72-7.72 1.47 1.35L5.41 20z\"/>\n",
              "  </svg>\n",
              "      </button>\n",
              "      \n",
              "  <style>\n",
              "    .colab-df-container {\n",
              "      display:flex;\n",
              "      flex-wrap:wrap;\n",
              "      gap: 12px;\n",
              "    }\n",
              "\n",
              "    .colab-df-convert {\n",
              "      background-color: #E8F0FE;\n",
              "      border: none;\n",
              "      border-radius: 50%;\n",
              "      cursor: pointer;\n",
              "      display: none;\n",
              "      fill: #1967D2;\n",
              "      height: 32px;\n",
              "      padding: 0 0 0 0;\n",
              "      width: 32px;\n",
              "    }\n",
              "\n",
              "    .colab-df-convert:hover {\n",
              "      background-color: #E2EBFA;\n",
              "      box-shadow: 0px 1px 2px rgba(60, 64, 67, 0.3), 0px 1px 3px 1px rgba(60, 64, 67, 0.15);\n",
              "      fill: #174EA6;\n",
              "    }\n",
              "\n",
              "    [theme=dark] .colab-df-convert {\n",
              "      background-color: #3B4455;\n",
              "      fill: #D2E3FC;\n",
              "    }\n",
              "\n",
              "    [theme=dark] .colab-df-convert:hover {\n",
              "      background-color: #434B5C;\n",
              "      box-shadow: 0px 1px 3px 1px rgba(0, 0, 0, 0.15);\n",
              "      filter: drop-shadow(0px 1px 2px rgba(0, 0, 0, 0.3));\n",
              "      fill: #FFFFFF;\n",
              "    }\n",
              "  </style>\n",
              "\n",
              "      <script>\n",
              "        const buttonEl =\n",
              "          document.querySelector('#df-583370e5-1bfe-4377-855b-e0404b5efe3b button.colab-df-convert');\n",
              "        buttonEl.style.display =\n",
              "          google.colab.kernel.accessAllowed ? 'block' : 'none';\n",
              "\n",
              "        async function convertToInteractive(key) {\n",
              "          const element = document.querySelector('#df-583370e5-1bfe-4377-855b-e0404b5efe3b');\n",
              "          const dataTable =\n",
              "            await google.colab.kernel.invokeFunction('convertToInteractive',\n",
              "                                                     [key], {});\n",
              "          if (!dataTable) return;\n",
              "\n",
              "          const docLinkHtml = 'Like what you see? Visit the ' +\n",
              "            '<a target=\"_blank\" href=https://colab.research.google.com/notebooks/data_table.ipynb>data table notebook</a>'\n",
              "            + ' to learn more about interactive tables.';\n",
              "          element.innerHTML = '';\n",
              "          dataTable['output_type'] = 'display_data';\n",
              "          await google.colab.output.renderOutput(dataTable, element);\n",
              "          const docLink = document.createElement('div');\n",
              "          docLink.innerHTML = docLinkHtml;\n",
              "          element.appendChild(docLink);\n",
              "        }\n",
              "      </script>\n",
              "    </div>\n",
              "  </div>\n",
              "  "
            ],
            "text/plain": [
              "   expver  latitude  longitude  ... smlt          sp      tco3\n",
              "0       1      90.0     -180.0  ...  0.0  102661.984  0.007461\n",
              "1       1      90.0     -180.0  ...  0.0  101824.310  0.009453\n",
              "\n",
              "[2 rows x 10 columns]"
            ]
          },
          "metadata": {},
          "execution_count": 9
        }
      ]
    },
    {
      "cell_type": "code",
      "source": [
        "#separating columns"
      ],
      "metadata": {
        "id": "yOsbxZ7y3ZDO"
      },
      "execution_count": null,
      "outputs": []
    },
    {
      "cell_type": "code",
      "source": [
        "north_data__renamed=north_d.rename(columns={'t2m':'temperature_2m','siconic':'sea_ice_area_fraction','asn':'Snow_albedo','smlt':'snow_melt','sp':'surface_pressure','tco3':\n",
        "'Total_column_ozone'})"
      ],
      "metadata": {
        "id": "qROVc-T-3_i9"
      },
      "execution_count": null,
      "outputs": []
    },
    {
      "cell_type": "markdown",
      "source": [
        "#Calculating averages "
      ],
      "metadata": {
        "id": "PnBPJtFJqn5h"
      }
    },
    {
      "cell_type": "code",
      "source": [
        "south_temp=south_data[['time','t2m']]\n",
        "south_temp_avg=south_temp.groupby('time').mean()"
      ],
      "metadata": {
        "id": "lz4yQ9uJ3zD0"
      },
      "execution_count": 3,
      "outputs": []
    },
    {
      "cell_type": "code",
      "source": [
        "south_temp_avg.to_csv('Stemp.csv') "
      ],
      "metadata": {
        "id": "LXnllc748xdm"
      },
      "execution_count": 9,
      "outputs": []
    },
    {
      "cell_type": "code",
      "source": [
        "# re- indexing to eliminate the index error from sea ice \n",
        "#columns=['expver','latitude','longitude','time','t2m','siconc','asn','smlt','sp','tco3']\n",
        "#north_data=north_data.reindex(columns=columns)"
      ],
      "metadata": {
        "id": "AAQXVXA795-k"
      },
      "execution_count": null,
      "outputs": []
    },
    {
      "cell_type": "code",
      "source": [
        "#north_seaice=north_data[['time','siconic']]\n",
        "#north_seaice_avg=north_seaice.groupby('time').mean()"
      ],
      "metadata": {
        "id": "03tI1-3oS-ep"
      },
      "execution_count": null,
      "outputs": []
    },
    {
      "cell_type": "code",
      "source": [
        ""
      ],
      "metadata": {
        "id": "_j8v_lIrS-Kf"
      },
      "execution_count": null,
      "outputs": []
    },
    {
      "cell_type": "code",
      "source": [
        "south_snow_albedo=south_data[['time','asn']]\n",
        "south_snow_albedo_avg=south_snow_albedo.groupby('time').mean()"
      ],
      "metadata": {
        "id": "MI47e3Ku4HUv"
      },
      "execution_count": null,
      "outputs": []
    },
    {
      "cell_type": "code",
      "source": [
        "south_snow_albedo_avg.to_csv('Ssnoe_albedo.csv')"
      ],
      "metadata": {
        "id": "rSisOI2j34OH"
      },
      "execution_count": 11,
      "outputs": []
    },
    {
      "cell_type": "code",
      "source": [
        "south_snow_melt=south_data[['time','smlt']]\n",
        "south_snow_melt_avg=south_snow_melt.groupby('time').mean()"
      ],
      "metadata": {
        "id": "SOPJJrPX-qgL"
      },
      "execution_count": 8,
      "outputs": []
    },
    {
      "cell_type": "code",
      "source": [
        "south_snow_melt_avg.to_csv('Ssnow_melt.csv')"
      ],
      "metadata": {
        "id": "P8jmUyzi-qD1"
      },
      "execution_count": 13,
      "outputs": []
    },
    {
      "cell_type": "code",
      "source": [
        "south_spressure=south_data[['time','sp']]\n",
        "south_spressure_avg=south_spressure.groupby('time').mean()"
      ],
      "metadata": {
        "id": "JIrWyqi3_ANN"
      },
      "execution_count": 4,
      "outputs": []
    },
    {
      "cell_type": "code",
      "source": [
        "south_spressure_avg.to_csv('Sspressure.csv')"
      ],
      "metadata": {
        "id": "mk2voUc7_A7_"
      },
      "execution_count": 5,
      "outputs": []
    },
    {
      "cell_type": "code",
      "source": [
        "south_ozon=south_data[['time','tco3']]\n",
        "south_ozon_avg=south_ozon.groupby('time').mean()"
      ],
      "metadata": {
        "id": "jm5n2HlH_yZK"
      },
      "execution_count": 6,
      "outputs": []
    },
    {
      "cell_type": "code",
      "source": [
        "south_ozon_avg.to_csv('Sozon.csv')"
      ],
      "metadata": {
        "id": "JUe3wHH0_x-x"
      },
      "execution_count": 7,
      "outputs": []
    },
    {
      "cell_type": "markdown",
      "source": [
        "# Merging"
      ],
      "metadata": {
        "id": "JtgR-OfZq0Gk"
      }
    },
    {
      "cell_type": "code",
      "source": [
        "south_temp_avg=pd.read_csv('/content/Stemp.csv')\n",
        "south_snow_albedo_avg=pd.read_csv('/content/Ssnoe_albedo.csv')\n",
        "south_merged=pd.merge(south_temp_avg,south_snow_albedo_avg,on=\"time\")"
      ],
      "metadata": {
        "id": "QrakITUCEWQ3"
      },
      "execution_count": 2,
      "outputs": []
    },
    {
      "cell_type": "code",
      "source": [
        "south_snow_melt_avg=pd.read_csv('/content/Ssnow_melt.csv')\n",
        "south_merged_1=pd.merge(south_merged,south_snow_melt_avg,on=\"time\")"
      ],
      "metadata": {
        "id": "Nz-wTNy8EWBr"
      },
      "execution_count": 4,
      "outputs": []
    },
    {
      "cell_type": "code",
      "source": [
        "south_spressure_avg=pd.read_csv('/content/Sspressure.csv')\n",
        "south_merged_2=pd.merge(south_merged_1,south_spressure_avg,on=\"time\")"
      ],
      "metadata": {
        "id": "tlTXMIuGKO-M"
      },
      "execution_count": 5,
      "outputs": []
    },
    {
      "cell_type": "code",
      "source": [
        "ozon=pd.read_csv('/content/Sozon.csv')\n",
        "south_data_avg=pd.merge(south_merged_2,ozon,on=\"time\")"
      ],
      "metadata": {
        "id": "9uQhUkZ-YTiK"
      },
      "execution_count": 7,
      "outputs": []
    },
    {
      "cell_type": "code",
      "source": [
        ""
      ],
      "metadata": {
        "id": "_hO1JiM0Kcoc"
      },
      "execution_count": null,
      "outputs": []
    },
    {
      "cell_type": "code",
      "source": [
        "\n",
        "south_data_avg=south_data_avg.rename(columns={'t2m':'temperature_2m','asn':'Snow_albedo','smlt':'snow_melt','sp':'surface_pressure','tco3':'Total_column_ozone'})"
      ],
      "metadata": {
        "id": "Me0kO4FhYTsp"
      },
      "execution_count": 8,
      "outputs": []
    },
    {
      "cell_type": "code",
      "source": [
        "south_data_avg.head()"
      ],
      "metadata": {
        "colab": {
          "base_uri": "https://localhost:8080/",
          "height": 206
        },
        "outputId": "52bc9e64-dd48-4f26-ba82-ee8cf984e0ca",
        "id": "mXknrf0FLHXD"
      },
      "execution_count": 9,
      "outputs": [
        {
          "output_type": "execute_result",
          "data": {
            "text/html": [
              "\n",
              "  <div id=\"df-06e3c8ad-3585-4fec-b397-908e87ea6523\">\n",
              "    <div class=\"colab-df-container\">\n",
              "      <div>\n",
              "<style scoped>\n",
              "    .dataframe tbody tr th:only-of-type {\n",
              "        vertical-align: middle;\n",
              "    }\n",
              "\n",
              "    .dataframe tbody tr th {\n",
              "        vertical-align: top;\n",
              "    }\n",
              "\n",
              "    .dataframe thead th {\n",
              "        text-align: right;\n",
              "    }\n",
              "</style>\n",
              "<table border=\"1\" class=\"dataframe\">\n",
              "  <thead>\n",
              "    <tr style=\"text-align: right;\">\n",
              "      <th></th>\n",
              "      <th>time</th>\n",
              "      <th>temperature_2m</th>\n",
              "      <th>Snow_albedo</th>\n",
              "      <th>snow_melt</th>\n",
              "      <th>surface_pressure</th>\n",
              "      <th>Total_column_ozone</th>\n",
              "    </tr>\n",
              "  </thead>\n",
              "  <tbody>\n",
              "    <tr>\n",
              "      <th>0</th>\n",
              "      <td>1979-01-01</td>\n",
              "      <td>255.527956</td>\n",
              "      <td>0.856535</td>\n",
              "      <td>3.674974e-06</td>\n",
              "      <td>80884.359104</td>\n",
              "      <td>0.006313</td>\n",
              "    </tr>\n",
              "    <tr>\n",
              "      <th>1</th>\n",
              "      <td>1979-02-01</td>\n",
              "      <td>249.151987</td>\n",
              "      <td>0.856540</td>\n",
              "      <td>3.973923e-08</td>\n",
              "      <td>80559.107569</td>\n",
              "      <td>0.006019</td>\n",
              "    </tr>\n",
              "    <tr>\n",
              "      <th>2</th>\n",
              "      <td>1979-03-01</td>\n",
              "      <td>242.581619</td>\n",
              "      <td>0.856535</td>\n",
              "      <td>9.692198e-09</td>\n",
              "      <td>80029.685869</td>\n",
              "      <td>0.006080</td>\n",
              "    </tr>\n",
              "    <tr>\n",
              "      <th>3</th>\n",
              "      <td>1979-04-01</td>\n",
              "      <td>239.475744</td>\n",
              "      <td>0.856540</td>\n",
              "      <td>5.515169e-09</td>\n",
              "      <td>80135.939285</td>\n",
              "      <td>0.005907</td>\n",
              "    </tr>\n",
              "    <tr>\n",
              "      <th>4</th>\n",
              "      <td>1979-05-01</td>\n",
              "      <td>235.630476</td>\n",
              "      <td>0.856545</td>\n",
              "      <td>4.656613e-10</td>\n",
              "      <td>79953.811282</td>\n",
              "      <td>0.005999</td>\n",
              "    </tr>\n",
              "  </tbody>\n",
              "</table>\n",
              "</div>\n",
              "      <button class=\"colab-df-convert\" onclick=\"convertToInteractive('df-06e3c8ad-3585-4fec-b397-908e87ea6523')\"\n",
              "              title=\"Convert this dataframe to an interactive table.\"\n",
              "              style=\"display:none;\">\n",
              "        \n",
              "  <svg xmlns=\"http://www.w3.org/2000/svg\" height=\"24px\"viewBox=\"0 0 24 24\"\n",
              "       width=\"24px\">\n",
              "    <path d=\"M0 0h24v24H0V0z\" fill=\"none\"/>\n",
              "    <path d=\"M18.56 5.44l.94 2.06.94-2.06 2.06-.94-2.06-.94-.94-2.06-.94 2.06-2.06.94zm-11 1L8.5 8.5l.94-2.06 2.06-.94-2.06-.94L8.5 2.5l-.94 2.06-2.06.94zm10 10l.94 2.06.94-2.06 2.06-.94-2.06-.94-.94-2.06-.94 2.06-2.06.94z\"/><path d=\"M17.41 7.96l-1.37-1.37c-.4-.4-.92-.59-1.43-.59-.52 0-1.04.2-1.43.59L10.3 9.45l-7.72 7.72c-.78.78-.78 2.05 0 2.83L4 21.41c.39.39.9.59 1.41.59.51 0 1.02-.2 1.41-.59l7.78-7.78 2.81-2.81c.8-.78.8-2.07 0-2.86zM5.41 20L4 18.59l7.72-7.72 1.47 1.35L5.41 20z\"/>\n",
              "  </svg>\n",
              "      </button>\n",
              "      \n",
              "  <style>\n",
              "    .colab-df-container {\n",
              "      display:flex;\n",
              "      flex-wrap:wrap;\n",
              "      gap: 12px;\n",
              "    }\n",
              "\n",
              "    .colab-df-convert {\n",
              "      background-color: #E8F0FE;\n",
              "      border: none;\n",
              "      border-radius: 50%;\n",
              "      cursor: pointer;\n",
              "      display: none;\n",
              "      fill: #1967D2;\n",
              "      height: 32px;\n",
              "      padding: 0 0 0 0;\n",
              "      width: 32px;\n",
              "    }\n",
              "\n",
              "    .colab-df-convert:hover {\n",
              "      background-color: #E2EBFA;\n",
              "      box-shadow: 0px 1px 2px rgba(60, 64, 67, 0.3), 0px 1px 3px 1px rgba(60, 64, 67, 0.15);\n",
              "      fill: #174EA6;\n",
              "    }\n",
              "\n",
              "    [theme=dark] .colab-df-convert {\n",
              "      background-color: #3B4455;\n",
              "      fill: #D2E3FC;\n",
              "    }\n",
              "\n",
              "    [theme=dark] .colab-df-convert:hover {\n",
              "      background-color: #434B5C;\n",
              "      box-shadow: 0px 1px 3px 1px rgba(0, 0, 0, 0.15);\n",
              "      filter: drop-shadow(0px 1px 2px rgba(0, 0, 0, 0.3));\n",
              "      fill: #FFFFFF;\n",
              "    }\n",
              "  </style>\n",
              "\n",
              "      <script>\n",
              "        const buttonEl =\n",
              "          document.querySelector('#df-06e3c8ad-3585-4fec-b397-908e87ea6523 button.colab-df-convert');\n",
              "        buttonEl.style.display =\n",
              "          google.colab.kernel.accessAllowed ? 'block' : 'none';\n",
              "\n",
              "        async function convertToInteractive(key) {\n",
              "          const element = document.querySelector('#df-06e3c8ad-3585-4fec-b397-908e87ea6523');\n",
              "          const dataTable =\n",
              "            await google.colab.kernel.invokeFunction('convertToInteractive',\n",
              "                                                     [key], {});\n",
              "          if (!dataTable) return;\n",
              "\n",
              "          const docLinkHtml = 'Like what you see? Visit the ' +\n",
              "            '<a target=\"_blank\" href=https://colab.research.google.com/notebooks/data_table.ipynb>data table notebook</a>'\n",
              "            + ' to learn more about interactive tables.';\n",
              "          element.innerHTML = '';\n",
              "          dataTable['output_type'] = 'display_data';\n",
              "          await google.colab.output.renderOutput(dataTable, element);\n",
              "          const docLink = document.createElement('div');\n",
              "          docLink.innerHTML = docLinkHtml;\n",
              "          element.appendChild(docLink);\n",
              "        }\n",
              "      </script>\n",
              "    </div>\n",
              "  </div>\n",
              "  "
            ],
            "text/plain": [
              "         time  temperature_2m  ...  surface_pressure  Total_column_ozone\n",
              "0  1979-01-01      255.527956  ...      80884.359104            0.006313\n",
              "1  1979-02-01      249.151987  ...      80559.107569            0.006019\n",
              "2  1979-03-01      242.581619  ...      80029.685869            0.006080\n",
              "3  1979-04-01      239.475744  ...      80135.939285            0.005907\n",
              "4  1979-05-01      235.630476  ...      79953.811282            0.005999\n",
              "\n",
              "[5 rows x 6 columns]"
            ]
          },
          "metadata": {},
          "execution_count": 9
        }
      ]
    },
    {
      "cell_type": "code",
      "source": [
        "south_data_avg.count()"
      ],
      "metadata": {
        "colab": {
          "base_uri": "https://localhost:8080/"
        },
        "id": "4t_7jjqqrHGj",
        "outputId": "3cb6bb97-b686-463c-bbbf-d9467878576b"
      },
      "execution_count": 10,
      "outputs": [
        {
          "output_type": "execute_result",
          "data": {
            "text/plain": [
              "time                  516\n",
              "temperature_2m        516\n",
              "Snow_albedo           516\n",
              "snow_melt             516\n",
              "surface_pressure      516\n",
              "Total_column_ozone    516\n",
              "dtype: int64"
            ]
          },
          "metadata": {},
          "execution_count": 10
        }
      ]
    },
    {
      "cell_type": "code",
      "source": [
        "south_data_avg.to_csv('south_avg.csv')\n",
        "!cp south_avg.csv \"drive/My Drive/data/\""
      ],
      "metadata": {
        "id": "npB6Mb2RrOH9"
      },
      "execution_count": 13,
      "outputs": []
    },
    {
      "cell_type": "code",
      "source": [
        ""
      ],
      "metadata": {
        "id": "HdKD5gyX61mi"
      },
      "execution_count": null,
      "outputs": []
    }
  ]
}